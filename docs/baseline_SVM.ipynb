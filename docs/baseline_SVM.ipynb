{
 "cells": [
  {
   "cell_type": "code",
   "execution_count": 26,
   "metadata": {},
   "outputs": [
    {
     "name": "stdout",
     "output_type": "stream",
     "text": [
      "Requirement already satisfied: opencv-python in /Users/apple/miniforge3/envs/colx535/lib/python3.13/site-packages (4.11.0.86)\n",
      "Requirement already satisfied: numpy>=1.21.2 in /Users/apple/miniforge3/envs/colx535/lib/python3.13/site-packages (from opencv-python) (2.2.1)\n",
      "Requirement already satisfied: scikit-image in /Users/apple/miniforge3/envs/colx535/lib/python3.13/site-packages (0.25.2)\n",
      "Requirement already satisfied: numpy>=1.24 in /Users/apple/miniforge3/envs/colx535/lib/python3.13/site-packages (from scikit-image) (2.2.1)\n",
      "Requirement already satisfied: scipy>=1.11.4 in /Users/apple/miniforge3/envs/colx535/lib/python3.13/site-packages (from scikit-image) (1.15.1)\n",
      "Requirement already satisfied: networkx>=3.0 in /Users/apple/miniforge3/envs/colx535/lib/python3.13/site-packages (from scikit-image) (3.4.2)\n",
      "Requirement already satisfied: pillow>=10.1 in /Users/apple/miniforge3/envs/colx535/lib/python3.13/site-packages (from scikit-image) (11.1.0)\n",
      "Requirement already satisfied: imageio!=2.35.0,>=2.33 in /Users/apple/miniforge3/envs/colx535/lib/python3.13/site-packages (from scikit-image) (2.37.0)\n",
      "Requirement already satisfied: tifffile>=2022.8.12 in /Users/apple/miniforge3/envs/colx535/lib/python3.13/site-packages (from scikit-image) (2025.3.13)\n",
      "Requirement already satisfied: packaging>=21 in /Users/apple/miniforge3/envs/colx535/lib/python3.13/site-packages (from scikit-image) (24.2)\n",
      "Requirement already satisfied: lazy-loader>=0.4 in /Users/apple/miniforge3/envs/colx535/lib/python3.13/site-packages (from scikit-image) (0.4)\n"
     ]
    }
   ],
   "source": [
    "! pip install opencv-python\n",
    "! pip install scikit-image\n",
    "\n",
    "import cv2\n",
    "import numpy as np\n",
    "import pandas as pd\n",
    "from skimage.feature import hog\n",
    "from sklearn.svm import SVC\n",
    "from sklearn.model_selection import train_test_split\n",
    "from sklearn.model_selection import GridSearchCV\n",
    "from sklearn.preprocessing import StandardScaler\n",
    "from sklearn.metrics import accuracy_score, classification_report\n"
   ]
  },
  {
   "cell_type": "code",
   "execution_count": 27,
   "metadata": {},
   "outputs": [],
   "source": [
    "# Load your DataFrame\n",
    "df = pd.read_csv(\"./docs/fruit_data.csv\")\n",
    "\n",
    "# Convert labels to numerical (0 = Healthy, 1 = Rotten)\n",
    "df[\"label\"] = df[\"label\"].map({\"Healthy\": 0, \"Rotten\": 1})\n",
    "\n",
    "SAMPLE_SIZE = 1000\n",
    "df_sampled = df.sample(n=SAMPLE_SIZE, random_state=42).reset_index(drop=True)"
   ]
  },
  {
   "cell_type": "code",
   "execution_count": 28,
   "metadata": {},
   "outputs": [],
   "source": [
    "# Function to load and preprocess images\n",
    "def load_and_preprocess_images(image_paths, img_size=(64, 64)):\n",
    "    images = []\n",
    "    for path in image_paths:\n",
    "        img = cv2.imread(path, cv2.IMREAD_GRAYSCALE)  # Convert to grayscale\n",
    "        if img is not None:\n",
    "            img = cv2.resize(img, img_size)  # Resize image\n",
    "            images.append(img)\n",
    "    return np.array(images)\n",
    "\n",
    "# Load images using paths from DataFrame\n",
    "X_images = load_and_preprocess_images(df_sampled[\"image\"])\n",
    "\n",
    "# Extract HOG features\n",
    "def extract_hog_features(images):\n",
    "    features = []\n",
    "    for img in images:\n",
    "        hog_feat = hog(img, pixels_per_cell=(8, 8), cells_per_block=(2, 2), orientations=9, block_norm='L2-Hys')\n",
    "        features.append(hog_feat)\n",
    "    return np.array(features)\n",
    "\n",
    "X_features = extract_hog_features(X_images)\n",
    "y = df_sampled[\"label\"].values  # Labels"
   ]
  },
  {
   "cell_type": "code",
   "execution_count": 29,
   "metadata": {},
   "outputs": [
    {
     "name": "stdout",
     "output_type": "stream",
     "text": [
      "Fitting 5 folds for each of 12 candidates, totalling 60 fits\n",
      "Dev set accuracy: 67.00%\n",
      "\n",
      "Dev Set Classification Report:\n",
      "              precision    recall  f1-score   support\n",
      "\n",
      "     Healthy       0.60      0.75      0.67        44\n",
      "      Rotten       0.76      0.61      0.67        56\n",
      "\n",
      "    accuracy                           0.67       100\n",
      "   macro avg       0.68      0.68      0.67       100\n",
      "weighted avg       0.69      0.67      0.67       100\n",
      "\n"
     ]
    }
   ],
   "source": [
    "# Split into training and testing sets\n",
    "X_train, y_train = X_features[:800], y[:800]\n",
    "X_dev, y_dev = X_features[800:900], y[800:900]\n",
    "X_test, y_test = X_features[900:], y[900:]\n",
    "\n",
    "param_grid = {\n",
    "    'kernel': ['linear', 'rbf'],\n",
    "    'C': [0.1, 1, 10],\n",
    "    'gamma': ['scale', 'auto']\n",
    "}\n",
    "\n",
    "\n",
    "# Initialize SVM\n",
    "svm = SVC()\n",
    "\n",
    "# Perform grid search with cross-validation on training set\n",
    "grid_search = GridSearchCV(\n",
    "    estimator=svm,\n",
    "    param_grid=param_grid,\n",
    "    cv=5,                # 5-fold CV within training set\n",
    "    scoring='accuracy',\n",
    "    n_jobs=-1,\n",
    "    verbose=1\n",
    ")\n",
    "\n",
    "# Train the model\n",
    "grid_search.fit(X_train, y_train)\n",
    "\n",
    "# Get the best model\n",
    "best_svm = grid_search.best_estimator_\n",
    "\n",
    "# Evaluate on dev set\n",
    "y_dev_pred = best_svm.predict(X_dev)\n",
    "dev_accuracy = accuracy_score(y_dev, y_dev_pred)\n",
    "print(f\"Dev set accuracy: {dev_accuracy * 100:.2f}%\")\n",
    "print(\"\\nDev Set Classification Report:\")\n",
    "print(classification_report(y_dev, y_dev_pred, target_names=[\"Healthy\", \"Rotten\"]))"
   ]
  },
  {
   "cell_type": "code",
   "execution_count": 30,
   "metadata": {},
   "outputs": [
    {
     "name": "stdout",
     "output_type": "stream",
     "text": [
      "Test set accuracy: 69.00%\n",
      "\n",
      "Test Set Classification Report:\n",
      "              precision    recall  f1-score   support\n",
      "\n",
      "     Healthy       0.76      0.56      0.64        50\n",
      "      Rotten       0.65      0.82      0.73        50\n",
      "\n",
      "    accuracy                           0.69       100\n",
      "   macro avg       0.70      0.69      0.68       100\n",
      "weighted avg       0.70      0.69      0.68       100\n",
      "\n"
     ]
    }
   ],
   "source": [
    "# Make predictions and evaluate on test set\n",
    "y_test_pred = best_svm.predict(X_test)\n",
    "test_accuracy = accuracy_score(y_test, y_test_pred)\n",
    "print(f\"Test set accuracy: {test_accuracy * 100:.2f}%\")\n",
    "print(\"\\nTest Set Classification Report:\")\n",
    "print(classification_report(y_test, y_test_pred, target_names=[\"Healthy\", \"Rotten\"]))"
   ]
  }
 ],
 "metadata": {
  "kernelspec": {
   "display_name": "colx535",
   "language": "python",
   "name": "python3"
  },
  "language_info": {
   "codemirror_mode": {
    "name": "ipython",
    "version": 3
   },
   "file_extension": ".py",
   "mimetype": "text/x-python",
   "name": "python",
   "nbconvert_exporter": "python",
   "pygments_lexer": "ipython3",
   "version": "3.13.1"
  }
 },
 "nbformat": 4,
 "nbformat_minor": 2
}

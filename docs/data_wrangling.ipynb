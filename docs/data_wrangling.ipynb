{
 "cells": [
  {
   "cell_type": "code",
   "execution_count": 1,
   "metadata": {
    "colab": {
     "base_uri": "https://localhost:8080/"
    },
    "executionInfo": {
     "elapsed": 9274,
     "status": "ok",
     "timestamp": 1742062953944,
     "user": {
      "displayName": "Zhengyi Shan",
      "userId": "16734884872471528554"
     },
     "user_tz": 420
    },
    "id": "4-JbBVqCCae0",
    "outputId": "897614c7-9f8e-4cc8-a9a1-127aef4bb262"
   },
   "outputs": [],
   "source": [
    "# Initialization\n",
    "import pandas as pd\n",
    "import os\n",
    "# import torch\n",
    "# from torch import cuda"
   ]
  },
  {
   "cell_type": "code",
   "execution_count": null,
   "metadata": {
    "id": "Ho-AYndYCae4",
    "outputId": "97f982e4-decf-4d7f-c047-702f9b1a61ac"
   },
   "outputs": [
    {
     "data": {
      "text/html": [
       "<div>\n",
       "<style scoped>\n",
       "    .dataframe tbody tr th:only-of-type {\n",
       "        vertical-align: middle;\n",
       "    }\n",
       "\n",
       "    .dataframe tbody tr th {\n",
       "        vertical-align: top;\n",
       "    }\n",
       "\n",
       "    .dataframe thead th {\n",
       "        text-align: right;\n",
       "    }\n",
       "</style>\n",
       "<table border=\"1\" class=\"dataframe\">\n",
       "  <thead>\n",
       "    <tr style=\"text-align: right;\">\n",
       "      <th></th>\n",
       "      <th>image</th>\n",
       "      <th>fruit</th>\n",
       "      <th>label</th>\n",
       "    </tr>\n",
       "  </thead>\n",
       "  <tbody>\n",
       "  </tbody>\n",
       "</table>\n",
       "</div>"
      ],
      "text/plain": [
       "Empty DataFrame\n",
       "Columns: [image, fruit, label]\n",
       "Index: []"
      ]
     },
     "execution_count": 4,
     "metadata": {},
     "output_type": "execute_result"
    }
   ],
   "source": [
    "# Create an empty dataframe for the further data wrangling\n",
    "df = pd.DataFrame()\n",
    "df = pd.DataFrame(columns=['image', 'fruit', 'label'])"
   ]
  },
  {
   "cell_type": "code",
   "execution_count": 6,
   "metadata": {
    "id": "DgOQIHSPCae5"
   },
   "outputs": [
    {
     "data": {
      "text/plain": [
       "['Mango__Rotten',\n",
       " 'Orange__Rotten',\n",
       " 'Jujube__Healthy',\n",
       " 'Cucumber__Rotten',\n",
       " 'Apple__Rotten',\n",
       " '.DS_Store',\n",
       " 'Grape__Rotten',\n",
       " 'Tomato__Rotten',\n",
       " 'Bellpepper__Healthy',\n",
       " 'Tomato__Healthy',\n",
       " 'Carrot__Healthy',\n",
       " 'Grape__Healthy',\n",
       " 'Apple__Healthy',\n",
       " 'Guava__Healthy',\n",
       " 'Potato__Healthy',\n",
       " 'Banana__Healthy',\n",
       " 'Potato__Rotten',\n",
       " 'Cucumber__Healthy',\n",
       " 'Strawberry__Healthy',\n",
       " 'Carrot__Rotten',\n",
       " 'Strawberry__Rotten',\n",
       " 'Pomegranate__Rotten',\n",
       " 'Bellpepper__Rotten',\n",
       " 'Jujube__Rotten',\n",
       " 'Guava__Rotten',\n",
       " 'Pomegranate__Healthy',\n",
       " 'Orange__Healthy',\n",
       " 'Banana__Rotten',\n",
       " 'Mango__Healthy']"
      ]
     },
     "execution_count": 6,
     "metadata": {},
     "output_type": "execute_result"
    }
   ],
   "source": [
    "# Open the files and read the content\n",
    "path = \"./data/\"\n",
    "structure = os.listdir(path)\n",
    "structure"
   ]
  },
  {
   "cell_type": "code",
   "execution_count": 9,
   "metadata": {},
   "outputs": [
    {
     "data": {
      "text/html": [
       "<div>\n",
       "<style scoped>\n",
       "    .dataframe tbody tr th:only-of-type {\n",
       "        vertical-align: middle;\n",
       "    }\n",
       "\n",
       "    .dataframe tbody tr th {\n",
       "        vertical-align: top;\n",
       "    }\n",
       "\n",
       "    .dataframe thead th {\n",
       "        text-align: right;\n",
       "    }\n",
       "</style>\n",
       "<table border=\"1\" class=\"dataframe\">\n",
       "  <thead>\n",
       "    <tr style=\"text-align: right;\">\n",
       "      <th></th>\n",
       "      <th>image</th>\n",
       "      <th>fruit</th>\n",
       "      <th>label</th>\n",
       "    </tr>\n",
       "  </thead>\n",
       "  <tbody>\n",
       "    <tr>\n",
       "      <th>0</th>\n",
       "      <td>./data/Mango__Rotten/63.jpg</td>\n",
       "      <td>Mango</td>\n",
       "      <td>Rotten</td>\n",
       "    </tr>\n",
       "    <tr>\n",
       "      <th>1</th>\n",
       "      <td>./data/Mango__Rotten/aspergillus_058.jpg</td>\n",
       "      <td>Mango</td>\n",
       "      <td>Rotten</td>\n",
       "    </tr>\n",
       "    <tr>\n",
       "      <th>2</th>\n",
       "      <td>./data/Mango__Rotten/823.jpg</td>\n",
       "      <td>Mango</td>\n",
       "      <td>Rotten</td>\n",
       "    </tr>\n",
       "    <tr>\n",
       "      <th>3</th>\n",
       "      <td>./data/Mango__Rotten/rottenMango (359).jpg</td>\n",
       "      <td>Mango</td>\n",
       "      <td>Rotten</td>\n",
       "    </tr>\n",
       "    <tr>\n",
       "      <th>4</th>\n",
       "      <td>./data/Mango__Rotten/189.jpg</td>\n",
       "      <td>Mango</td>\n",
       "      <td>Rotten</td>\n",
       "    </tr>\n",
       "    <tr>\n",
       "      <th>...</th>\n",
       "      <td>...</td>\n",
       "      <td>...</td>\n",
       "      <td>...</td>\n",
       "    </tr>\n",
       "    <tr>\n",
       "      <th>29272</th>\n",
       "      <td>./data/Mango__Healthy/46.jpg</td>\n",
       "      <td>Mango</td>\n",
       "      <td>Healthy</td>\n",
       "    </tr>\n",
       "    <tr>\n",
       "      <th>29273</th>\n",
       "      <td>./data/Mango__Healthy/freshMango (122).png</td>\n",
       "      <td>Mango</td>\n",
       "      <td>Healthy</td>\n",
       "    </tr>\n",
       "    <tr>\n",
       "      <th>29274</th>\n",
       "      <td>./data/Mango__Healthy/freshMango (23).png</td>\n",
       "      <td>Mango</td>\n",
       "      <td>Healthy</td>\n",
       "    </tr>\n",
       "    <tr>\n",
       "      <th>29275</th>\n",
       "      <td>./data/Mango__Healthy/190.jpg</td>\n",
       "      <td>Mango</td>\n",
       "      <td>Healthy</td>\n",
       "    </tr>\n",
       "    <tr>\n",
       "      <th>29276</th>\n",
       "      <td>./data/Mango__Healthy/184.jpg</td>\n",
       "      <td>Mango</td>\n",
       "      <td>Healthy</td>\n",
       "    </tr>\n",
       "  </tbody>\n",
       "</table>\n",
       "<p>29277 rows × 3 columns</p>\n",
       "</div>"
      ],
      "text/plain": [
       "                                            image  fruit    label\n",
       "0                     ./data/Mango__Rotten/63.jpg  Mango   Rotten\n",
       "1        ./data/Mango__Rotten/aspergillus_058.jpg  Mango   Rotten\n",
       "2                    ./data/Mango__Rotten/823.jpg  Mango   Rotten\n",
       "3      ./data/Mango__Rotten/rottenMango (359).jpg  Mango   Rotten\n",
       "4                    ./data/Mango__Rotten/189.jpg  Mango   Rotten\n",
       "...                                           ...    ...      ...\n",
       "29272                ./data/Mango__Healthy/46.jpg  Mango  Healthy\n",
       "29273  ./data/Mango__Healthy/freshMango (122).png  Mango  Healthy\n",
       "29274   ./data/Mango__Healthy/freshMango (23).png  Mango  Healthy\n",
       "29275               ./data/Mango__Healthy/190.jpg  Mango  Healthy\n",
       "29276               ./data/Mango__Healthy/184.jpg  Mango  Healthy\n",
       "\n",
       "[29277 rows x 3 columns]"
      ]
     },
     "execution_count": 9,
     "metadata": {},
     "output_type": "execute_result"
    }
   ],
   "source": [
    "# Iterate through each fruit folder\n",
    "data = []  # Temporary list to store rows\n",
    "\n",
    "for fruit_folder in os.listdir(path):\n",
    "    fruit_path = os.path.join(path, fruit_folder)\n",
    "    \n",
    "    # Skip non-directories and unwanted files (e.g., .DS_Store)\n",
    "    if os.path.isdir(fruit_path) and not fruit_folder.startswith('.'):\n",
    "        # Split the fruit name and label from folder name\n",
    "        if '__' in fruit_folder:\n",
    "            fruit, label = fruit_folder.split('__')\n",
    "            \n",
    "            # Iterate through the files in the current fruit folder\n",
    "            for image_file in os.listdir(fruit_path):\n",
    "                image_path = os.path.join(fruit_path, image_file)\n",
    "                \n",
    "                # Check if the file is an image\n",
    "                if os.path.isfile(image_path) and image_file.lower().endswith(('.png', '.jpg', '.jpeg', '.bmp', '.gif')):\n",
    "                    # Append data for the image, fruit name, and label to the list\n",
    "                    data.append({\n",
    "                        \"image\": image_path,\n",
    "                        \"fruit\": fruit,\n",
    "                        \"label\": label\n",
    "                    })\n",
    "\n",
    "# Convert the list to a DataFrame\n",
    "df = pd.DataFrame(data)\n",
    "df\n"
   ]
  }
 ],
 "metadata": {
  "accelerator": "GPU",
  "colab": {
   "gpuType": "T4",
   "provenance": []
  },
  "kernelspec": {
   "display_name": "colx535",
   "language": "python",
   "name": "python3"
  },
  "language_info": {
   "codemirror_mode": {
    "name": "ipython",
    "version": 3
   },
   "file_extension": ".py",
   "mimetype": "text/x-python",
   "name": "python",
   "nbconvert_exporter": "python",
   "pygments_lexer": "ipython3",
   "version": "3.13.1"
  }
 },
 "nbformat": 4,
 "nbformat_minor": 0
}
